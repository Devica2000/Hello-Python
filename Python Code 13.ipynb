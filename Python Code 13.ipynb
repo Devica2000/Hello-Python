{
 "cells": [
  {
   "cell_type": "code",
   "execution_count": 6,
   "metadata": {},
   "outputs": [
    {
     "name": "stdout",
     "output_type": "stream",
     "text": [
      "enter the length 8\n",
      "enter the breadth 5\n",
      "the area is 40\n"
     ]
    }
   ],
   "source": [
    "# Python program to find the area of rectangle using the concept of classes\n",
    "class rectangle:\n",
    "    def __init__(self,l=1,b=1):\n",
    "        self.l=l\n",
    "        self.b=b\n",
    "    def area(self):\n",
    "       return self.l*self.b\n",
    "l=int(input(\"enter the length \"))\n",
    "b=int(input(\"enter the breadth \"))\n",
    "rect=rectangle(l,b)\n",
    "print(\"the area is\",rect.area())"
   ]
  },
  {
   "cell_type": "code",
   "execution_count": null,
   "metadata": {},
   "outputs": [],
   "source": []
  }
 ],
 "metadata": {
  "kernelspec": {
   "display_name": "Python 3",
   "language": "python",
   "name": "python3"
  },
  "language_info": {
   "codemirror_mode": {
    "name": "ipython",
    "version": 3
   },
   "file_extension": ".py",
   "mimetype": "text/x-python",
   "name": "python",
   "nbconvert_exporter": "python",
   "pygments_lexer": "ipython3",
   "version": "3.7.3"
  }
 },
 "nbformat": 4,
 "nbformat_minor": 2
}
