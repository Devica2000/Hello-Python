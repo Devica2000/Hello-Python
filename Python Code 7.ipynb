{
 "cells": [
  {
   "cell_type": "code",
   "execution_count": 1,
   "metadata": {},
   "outputs": [
    {
     "name": "stdout",
     "output_type": "stream",
     "text": [
      "rain\n",
      "\n",
      "snow\n",
      "\n",
      "fall\n",
      "\n"
     ]
    }
   ],
   "source": [
    "# Python program to print an entity in list which has a length of 5 (including space)\n",
    "list1 =['rain','snow', 'fall','winter','monsoon','automn']\n",
    "with open('file_test.txt','w') as f1:\n",
    "     for item in list1:\n",
    "        print(item,file=f1)\n",
    "             \n",
    "f=open('file_test.txt','r') \n",
    "for line1 in f:\n",
    "    if len(line1)==5:\n",
    "        print(line1)\n"
   ]
  },
  {
   "cell_type": "code",
   "execution_count": null,
   "metadata": {},
   "outputs": [],
   "source": []
  }
 ],
 "metadata": {
  "kernelspec": {
   "display_name": "Python 3",
   "language": "python",
   "name": "python3"
  },
  "language_info": {
   "codemirror_mode": {
    "name": "ipython",
    "version": 3
   },
   "file_extension": ".py",
   "mimetype": "text/x-python",
   "name": "python",
   "nbconvert_exporter": "python",
   "pygments_lexer": "ipython3",
   "version": "3.7.3"
  }
 },
 "nbformat": 4,
 "nbformat_minor": 2
}
