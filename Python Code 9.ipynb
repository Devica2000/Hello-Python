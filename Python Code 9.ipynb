{
 "cells": [
  {
   "cell_type": "code",
   "execution_count": 1,
   "metadata": {},
   "outputs": [
    {
     "name": "stdout",
     "output_type": "stream",
     "text": [
      "Enter Number (n)9\n",
      "Enter Number (k)7\n",
      "36.0\n"
     ]
    }
   ],
   "source": [
    "# Python Program to find the Combination of a number\n",
    "def factorial(n):\n",
    "    fac=1\n",
    "    for i in range(1,n+1):\n",
    "        fac=fac*i\n",
    "    return fac\n",
    "\n",
    "n=int(input(\"Enter Number (n)\"))\n",
    "k=int(input(\"Enter Number (k)\"))\n",
    "factorial(n)\n",
    "factorial(k)\n",
    "factorial(n-k)\n",
    "print(factorial(n)/(factorial(k)*factorial(n-k)))\n"
   ]
  },
  {
   "cell_type": "code",
   "execution_count": null,
   "metadata": {},
   "outputs": [],
   "source": []
  }
 ],
 "metadata": {
  "kernelspec": {
   "display_name": "Python 3",
   "language": "python",
   "name": "python3"
  },
  "language_info": {
   "codemirror_mode": {
    "name": "ipython",
    "version": 3
   },
   "file_extension": ".py",
   "mimetype": "text/x-python",
   "name": "python",
   "nbconvert_exporter": "python",
   "pygments_lexer": "ipython3",
   "version": "3.7.3"
  }
 },
 "nbformat": 4,
 "nbformat_minor": 2
}
