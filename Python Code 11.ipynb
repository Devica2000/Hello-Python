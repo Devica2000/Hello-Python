{
 "cells": [
  {
   "cell_type": "code",
   "execution_count": 1,
   "metadata": {},
   "outputs": [
    {
     "name": "stdout",
     "output_type": "stream",
     "text": [
      "summer,winter,automn\n",
      "nmotua,retniw,remmus\n",
      "['nmotua', 'retniw', 'remmus']\n"
     ]
    }
   ],
   "source": [
    "# Python program to reverse the elements in a list while also reversing the alphabets in each element of the list\n",
    "list1=['summer','winter','automn']\n",
    "str1=','.join(list1) # Use .join() to convert a list into string\n",
    "print (str1)\n",
    "str2=str1[::-1]      # Reversing the string1 (str1) and storing it as a new string - str2\n",
    "print (str2)\n",
    "list2=str2.split(',')  # Use .split() to convert a string back into a list\n",
    "print (list2)"
   ]
  },
  {
   "cell_type": "code",
   "execution_count": null,
   "metadata": {},
   "outputs": [],
   "source": []
  }
 ],
 "metadata": {
  "kernelspec": {
   "display_name": "Python 3",
   "language": "python",
   "name": "python3"
  },
  "language_info": {
   "codemirror_mode": {
    "name": "ipython",
    "version": 3
   },
   "file_extension": ".py",
   "mimetype": "text/x-python",
   "name": "python",
   "nbconvert_exporter": "python",
   "pygments_lexer": "ipython3",
   "version": "3.7.3"
  }
 },
 "nbformat": 4,
 "nbformat_minor": 2
}
