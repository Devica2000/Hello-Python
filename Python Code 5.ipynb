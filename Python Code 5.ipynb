{
 "cells": [
  {
   "cell_type": "code",
   "execution_count": 3,
   "metadata": {},
   "outputs": [],
   "source": [
    "# Python program to create two new files f1 and f2\n",
    "list1=['Aug','sep','oct','nov','sep','aug','sep','nov']\n",
    "list2=[1,2,3,2,5,6,1,2]\n",
    "with open('file1.txt','w') as f1:\n",
    "    for item in list1:\n",
    "        f1.write(item+'\\n')\n",
    "with open('file2.txt','w') as f2:\n",
    "    for item1 in list2:\n",
    "        for item1 in list2:\n",
    "            print(item1,file=f2)"
   ]
  },
  {
   "cell_type": "code",
   "execution_count": 5,
   "metadata": {},
   "outputs": [
    {
     "name": "stdout",
     "output_type": "stream",
     "text": [
      "Aug\n",
      "sep\n",
      "oct\n",
      "nov\n",
      "sep\n",
      "aug\n",
      "sep\n",
      "nov\n",
      "\n"
     ]
    }
   ],
   "source": [
    "#To read and display the contents , To \n",
    "f=open(\"file1.txt\",'r')\n",
    "print(f.read())\n",
    "f.close()"
   ]
  },
  {
   "cell_type": "code",
   "execution_count": 6,
   "metadata": {},
   "outputs": [
    {
     "name": "stdout",
     "output_type": "stream",
     "text": [
      "number of lines: 8\n"
     ]
    }
   ],
   "source": [
    "  \n",
    "#To count the number of lines and create and display the file f3 which is a combination of f1 and f2 \n",
    "count=0\n",
    "with open('file1.txt','r') as f3:\n",
    "    for item in f3:\n",
    "      count+=1\n",
    "print(\"number of lines:\",count)"
   ]
  },
  {
   "cell_type": "code",
   "execution_count": 4,
   "metadata": {},
   "outputs": [
    {
     "name": "stdout",
     "output_type": "stream",
     "text": [
      "Aug\n",
      "sep\n",
      "oct\n",
      "nov\n",
      "sep\n",
      "aug\n",
      "sep\n",
      "nov\n",
      "\n",
      "number of lines: 8\n",
      "sep\n"
     ]
    }
   ],
   "source": [
    "# To find the word whose count is more in f1 and f2 respectively.\n",
    "with open('file1.txt','r') as f4:\n",
    "        str1=f4.read()\n",
    "        list4=str1.split('\\n')\n",
    "        \n",
    "word=list4[0]\n",
    "for item in list4:\n",
    "    if(list4.count(item)>list4.count(word)):\n",
    "        word=item\n",
    "print(word)\n",
    "  "
   ]
  },
  {
   "cell_type": "code",
   "execution_count": null,
   "metadata": {},
   "outputs": [],
   "source": []
  }
 ],
 "metadata": {
  "kernelspec": {
   "display_name": "Python 3",
   "language": "python",
   "name": "python3"
  },
  "language_info": {
   "codemirror_mode": {
    "name": "ipython",
    "version": 3
   },
   "file_extension": ".py",
   "mimetype": "text/x-python",
   "name": "python",
   "nbconvert_exporter": "python",
   "pygments_lexer": "ipython3",
   "version": "3.7.3"
  }
 },
 "nbformat": 4,
 "nbformat_minor": 2
}
