{
 "cells": [
  {
   "cell_type": "code",
   "execution_count": 1,
   "metadata": {},
   "outputs": [],
   "source": [
    "# Python code to combine the contents of file1 and file2 simultaneously and store in another file f3\n",
    "list1=['Aug','sep','oct','nov','sep','aug','sep','nov']\n",
    "list2=[1,2,3,4,2,3,2,4]\n"
   ]
  },
  {
   "cell_type": "code",
   "execution_count": 2,
   "metadata": {},
   "outputs": [],
   "source": [
    "with open('file1.txt','w') as f1: # Opening the file1 in writing mode to store contents\n",
    "    for item in list1:            # Run for loop to iterate over each entity in list1\n",
    "      f1.write(item+'\\n')         # Storing each entity of list1 in file f1\n"
   ]
  },
  {
   "cell_type": "code",
   "execution_count": 3,
   "metadata": {},
   "outputs": [],
   "source": [
    "with open('file2.txt','w') as f2:  # Opening the file2 in writing mode to store contents\n",
    "    for item1 in list2:            # Run for loop to iterate over each entity in list2\n",
    "        print(item1,file=f2)       # Storing each entity of list2 in file2\n"
   ]
  },
  {
   "cell_type": "code",
   "execution_count": 4,
   "metadata": {},
   "outputs": [],
   "source": [
    "with open('file1.txt','r') as f1:                        # Opening file1 in read mode\n",
    "    with open('file2.txt','r') as f2:                    # Opening file2 in read mode\n",
    "        with open('file3.txt','w') as f3:                # Opening file3 in write mode to store contents of file1 and file2 in it\n",
    "            for line1,line2 in zip(f1,f2):               # Use zip function to combine elements of file1 and 2 together i.e. first element of file1 will be combined with first element of file2\n",
    "               line2=line2.strip()                       # Removing spaces \n",
    "               line1=line1.strip()                       # Removing spaces \n",
    "               print(line2+\" \"+line1+ \" 2019\",file=f3)   # Concatenating and storing in file3\n"
   ]
  },
  {
   "cell_type": "code",
   "execution_count": null,
   "metadata": {},
   "outputs": [],
   "source": []
  }
 ],
 "metadata": {
  "kernelspec": {
   "display_name": "Python 3",
   "language": "python",
   "name": "python3"
  },
  "language_info": {
   "codemirror_mode": {
    "name": "ipython",
    "version": 3
   },
   "file_extension": ".py",
   "mimetype": "text/x-python",
   "name": "python",
   "nbconvert_exporter": "python",
   "pygments_lexer": "ipython3",
   "version": "3.7.3"
  }
 },
 "nbformat": 4,
 "nbformat_minor": 2
}
