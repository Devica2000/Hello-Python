{
 "cells": [
  {
   "cell_type": "code",
   "execution_count": 1,
   "metadata": {},
   "outputs": [
    {
     "name": "stdout",
     "output_type": "stream",
     "text": [
      "preparing\n",
      "number 18\n",
      "number 29\n",
      "preparing\n",
      "a= 8 b= 9\n",
      "enter choice\n",
      "1.add\n",
      "2.sub\n",
      "3.mul\n",
      "4.div\n",
      "enter choice3\n",
      "8*9=72\n"
     ]
    }
   ],
   "source": [
    "# Python program for a calculator using the concept of class\n",
    "class calc():\n",
    "    def __init__(self,a=1,b=1):\n",
    "        self.a=a\n",
    "        self.b=b\n",
    "        print(\"preparing\")\n",
    "    def add(self):\n",
    "        print('{}+{}={}'.format(self.a,self.b,self.a+self.b))\n",
    "    def sub(self):\n",
    "        print('{}-{}={}'.format(self.a,self.b,self.a-self.b))\n",
    "    def mul(self):\n",
    "        print('{}*{}={}'.format(self.a,self.b,self.a*self.b))\n",
    "    def div(self):\n",
    "        print('{}/{}={}'.format(self.a,self.b,self.a/self.b))\n",
    "        \n",
    "c=calc()\n",
    "a=int(input(\"number 1\"))\n",
    "b=int(input(\"number 2\"))\n",
    "c.__init__(a,b)\n",
    "print(\"a=\",c.a,'b=',c.b)\n",
    "\n",
    "print(\"enter choice\")\n",
    "print(\"1.add\")\n",
    "print(\"2.sub\")\n",
    "print(\"3.mul\")\n",
    "print(\"4.div\")\n",
    "\n",
    "choice=int(input(\"enter choice\"))\n",
    "\n",
    "if choice==1:\n",
    "    c.add()\n",
    "elif choice==2:\n",
    "    c.sub()\n",
    "elif choice==3:\n",
    "    c.mul()\n",
    "elif choice==4:\n",
    "    c.div()\n",
    "else:\n",
    "    print(\"invalid choice\")\n"
   ]
  },
  {
   "cell_type": "code",
   "execution_count": null,
   "metadata": {},
   "outputs": [],
   "source": []
  }
 ],
 "metadata": {
  "kernelspec": {
   "display_name": "Python 3",
   "language": "python",
   "name": "python3"
  },
  "language_info": {
   "codemirror_mode": {
    "name": "ipython",
    "version": 3
   },
   "file_extension": ".py",
   "mimetype": "text/x-python",
   "name": "python",
   "nbconvert_exporter": "python",
   "pygments_lexer": "ipython3",
   "version": "3.7.3"
  }
 },
 "nbformat": 4,
 "nbformat_minor": 2
}
